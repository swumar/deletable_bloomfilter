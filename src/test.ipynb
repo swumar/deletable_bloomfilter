{
  "nbformat": 4,
  "nbformat_minor": 0,
  "metadata": {
    "colab": {
      "name": "test",
      "provenance": [],
      "collapsed_sections": []
    },
    "kernelspec": {
      "name": "python3",
      "display_name": "Python 3"
    }
  },
  "cells": [
    {
      "cell_type": "code",
      "metadata": {
        "id": "mG-7GOcczd_R"
      },
      "source": [
        "%pip install mmh3"
      ],
      "execution_count": null,
      "outputs": []
    },
    {
      "cell_type": "code",
      "metadata": {
        "id": "lbgBO5-dzdqg"
      },
      "source": [
        "%pip install bitarray"
      ],
      "execution_count": null,
      "outputs": []
    },
    {
      "cell_type": "code",
      "metadata": {
        "id": "hsYRo1E9sPGv"
      },
      "source": [
        "import math\n",
        "import mmh3\n",
        "from bitarray import bitarray\n",
        "\n",
        "\n",
        "class DeletableBloomFilter():\n",
        "\n",
        "  def __init__(self,n,m,r,k):\n",
        "\n",
        "    self.n = n\n",
        "    self.m = m\n",
        "    self.r = r\n",
        "    self.k = k\n",
        "\n",
        "    self.bit_array = bitarray(self.m + self.r)\n",
        "    self.bit_array.setall(0)\n",
        "\n",
        "  def add(self, item):\n",
        "\n",
        "    for i in range(self.k):\n",
        "      digest = mmh3.hash(item, i) % (self.m)\n",
        "      if self.bit_array[digest] == True:\n",
        "        r_bit = self.m - 1 + math.ceil((digest+1) / (math.ceil(self.m/self.r)))\n",
        "        self.bit_array[r_bit] = True\n",
        "      else :\n",
        "        self.bit_array[digest] = True\n",
        "\n",
        "  def check(self, item):\n",
        "\n",
        "    for i in range(self.k):\n",
        "      digest = mmh3.hash(item, i) % (self.m)\n",
        "      if self.bit_array[digest] == False:\n",
        "        return False\n",
        "\n",
        "    return True\n",
        "\n",
        "  def delete(self,item):\n",
        "    for i in range(self.k):\n",
        "      digest = mmh3.hash(item, i) % (self.m)\n",
        "      r_bit = self.m - 1 + math.ceil((digest+1) / (math.ceil(self.m/self.r)))\n",
        "      if self.bit_array[digest] == True and self.bit_array[r_bit] == False:\n",
        "        self.bit_array[digest] = False\n"
      ],
      "execution_count": null,
      "outputs": []
    },
    {
      "cell_type": "code",
      "metadata": {
        "id": "beuhtXdVsVA9"
      },
      "source": [
        "k = 3\n",
        "m = 20\n",
        "alpha = ['a','b','c','d','e','f','g','h','i','j','k','l','m','n','o','p','q','r','s','t','u','v','w','x','y','z']\n",
        "for item in alpha:\n",
        "  digests = list()\n",
        "  for i in range(k):\n",
        "    digest = mmh3.hash(item, i) % m\n",
        "    digests.append(digest)\n",
        "  print('{}:{}'.format(item,digests))"
      ],
      "execution_count": null,
      "outputs": []
    },
    {
      "cell_type": "code",
      "metadata": {
        "id": "o_jlSFuisX4K"
      },
      "source": [
        "filter = DeletableBloomFilter(4,20,4,3)\n",
        "\n",
        "filter.add('x')\n",
        "print(filter.bit_array)\n",
        "filter.add('y')\n",
        "print(filter.bit_array)\n",
        "filter.add('z')\n",
        "print(filter.bit_array)\n",
        "filter.add('i')\n",
        "print(filter.bit_array)"
      ],
      "execution_count": null,
      "outputs": []
    },
    {
      "cell_type": "code",
      "metadata": {
        "id": "w6phEGk4sas6"
      },
      "source": [
        "alpha = ['a','b','c','d','e','f','g','h','i','j','k','l','m','n','o','p','q','r','s','t','u','v','w','x','y','z']\n",
        "\n",
        "for a in alpha:\n",
        "  print(a,filter.check(a))"
      ],
      "execution_count": null,
      "outputs": []
    },
    {
      "cell_type": "code",
      "metadata": {
        "id": "6eVI9s7isdTf"
      },
      "source": [
        "print(filter.check('x'))\n",
        "filter.delete('x')\n",
        "print(filter.bit_array)\n",
        "print(filter.check('x'))\n",
        "filter.add('x')\n",
        "print(filter.bit_array)\n",
        "print(filter.check('x'))"
      ],
      "execution_count": null,
      "outputs": []
    },
    {
      "cell_type": "code",
      "metadata": {
        "colab": {
          "base_uri": "https://localhost:8080/"
        },
        "id": "XWciFiSlzES3",
        "outputId": "0ae7bab5-06b0-4e6a-ed4d-b5ef79fa96d5"
      },
      "source": [
        "filter2 = DeletableBloomFilter(4,4792529,1991150,2)\n",
        "\n",
        "a = [str(i) for i in range(1000000)]\n",
        "\n",
        "for i in a:\n",
        "  filter2.add(i)\n",
        "\n",
        "b = [str(i) for i in range(20000)]\n",
        "\n",
        "for i in b:\n",
        "  filter2.delete(i)\n",
        "\n",
        "fp = 0\n",
        "\n",
        "for i in b:\n",
        "  if filter2.check(i) == True:\n",
        "    fp += 1\n",
        "\n",
        "print(fp)"
      ],
      "execution_count": null,
      "outputs": [
        {
          "output_type": "stream",
          "text": [
            "3654\n"
          ],
          "name": "stdout"
        }
      ]
    }
  ]
}