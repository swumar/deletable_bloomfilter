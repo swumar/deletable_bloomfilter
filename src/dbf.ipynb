{
  "nbformat": 4,
  "nbformat_minor": 0,
  "metadata": {
    "colab": {
      "name": "Untitled",
      "provenance": [],
      "collapsed_sections": []
    },
    "kernelspec": {
      "name": "python3",
      "display_name": "Python 3"
    }
  },
  "cells": [
    {
      "cell_type": "code",
      "metadata": {
        "colab": {
          "base_uri": "https://localhost:8080/"
        },
        "id": "o5RBvdTROWy5",
        "outputId": "b10ead70-a4e9-44e2-f182-13650376ea8e"
      },
      "source": [
        "%pip install mmh3"
      ],
      "execution_count": null,
      "outputs": [
        {
          "output_type": "stream",
          "text": [
            "Requirement already satisfied: mmh3 in /usr/local/lib/python3.6/dist-packages (2.5.1)\n"
          ],
          "name": "stdout"
        }
      ]
    },
    {
      "cell_type": "code",
      "metadata": {
        "colab": {
          "base_uri": "https://localhost:8080/"
        },
        "id": "ZhgTzKigOhP4",
        "outputId": "5baefd50-7e93-48be-c94e-639f0acde482"
      },
      "source": [
        "%pip install bitarray"
      ],
      "execution_count": null,
      "outputs": [
        {
          "output_type": "stream",
          "text": [
            "Requirement already satisfied: bitarray in /usr/local/lib/python3.6/dist-packages (1.6.1)\n"
          ],
          "name": "stdout"
        }
      ]
    },
    {
      "cell_type": "code",
      "metadata": {
        "id": "vp8GJCXYaFXo"
      },
      "source": [
        "import math\n",
        "import mmh3\n",
        "from bitarray import bitarray\n",
        "\n",
        "\n",
        "class DeletableBloomFilter():\n",
        "\n",
        "  def __init__(self,n,m,r,k):\n",
        "\n",
        "    self.n = n\n",
        "    self.m = m\n",
        "    self.r = r\n",
        "    self.k = k\n",
        "\n",
        "    self.bit_array = bitarray(self.m + self.r)\n",
        "    self.bit_array.setall(0)\n",
        "\n",
        "  def add(self, item):\n",
        "\n",
        "    for i in range(self.k):\n",
        "      digest = mmh3.hash(item, i) % (self.m)\n",
        "      if self.bit_array[digest] == True:\n",
        "        r_bit = self.m - 1 + math.ceil((digest+1) / (math.ceil(self.m/self.r)))\n",
        "        self.bit_array[r_bit] = True\n",
        "      else :\n",
        "        self.bit_array[digest] = True\n",
        "\n",
        "  def check(self, item):\n",
        "\n",
        "    for i in range(self.k):\n",
        "      digest = mmh3.hash(item, i) % (self.m)\n",
        "      if self.bit_array[digest] == False:\n",
        "        return False\n",
        "\n",
        "    return True\n",
        "\n",
        "  def delete(self,item):\n",
        "    for i in range(self.k):\n",
        "      digest = mmh3.hash(item, i) % (self.m)\n",
        "      r_bit = self.m - 1 + math.ceil((digest+1) / (math.ceil(self.m/self.r)))\n",
        "      if self.bit_array[digest] == True and self.bit_array[r_bit] == False:\n",
        "        self.bit_array[digest] = False\n"
      ],
      "execution_count": null,
      "outputs": []
    },
    {
      "cell_type": "code",
      "metadata": {
        "colab": {
          "base_uri": "https://localhost:8080/"
        },
        "id": "16GnimUMTVvW",
        "outputId": "17e7abb0-3646-494f-a5e1-48ff27bfdaaf"
      },
      "source": [
        "k = 3\n",
        "m = 28\n",
        "alpha = ['a','b','c','d','e','f','g','h','i','j','k','l','m','n','o','p','q','r','s','t','u','v','w','x','y','z']\n",
        "for item in alpha:\n",
        "  digests = list()\n",
        "  for i in range(k):\n",
        "    digest = mmh3.hash(item, i) % m\n",
        "    digests.append(digest)\n",
        "  print('{}:{}'.format(item,digests))"
      ],
      "execution_count": null,
      "outputs": [
        {
          "output_type": "stream",
          "text": [
            "a:[18, 20, 18]\n",
            "b:[11, 27, 18]\n",
            "c:[19, 11, 1]\n",
            "d:[11, 8, 8]\n",
            "e:[23, 25, 12]\n",
            "f:[27, 5, 19]\n",
            "g:[26, 5, 1]\n",
            "h:[19, 16, 9]\n",
            "i:[3, 21, 27]\n",
            "j:[21, 16, 23]\n",
            "k:[1, 14, 20]\n",
            "l:[4, 2, 18]\n",
            "m:[8, 10, 15]\n",
            "n:[20, 3, 3]\n",
            "o:[11, 9, 14]\n",
            "p:[2, 6, 14]\n",
            "q:[16, 23, 14]\n",
            "r:[9, 23, 1]\n",
            "s:[13, 19, 17]\n",
            "t:[9, 14, 13]\n",
            "u:[16, 5, 20]\n",
            "v:[1, 22, 6]\n",
            "w:[15, 7, 14]\n",
            "x:[23, 6, 16]\n",
            "y:[10, 0, 16]\n",
            "z:[11, 20, 23]\n"
          ],
          "name": "stdout"
        }
      ]
    },
    {
      "cell_type": "code",
      "metadata": {
        "colab": {
          "base_uri": "https://localhost:8080/"
        },
        "id": "JlkQBFjLOwS7",
        "outputId": "1d0d4e15-ddcb-4080-a9a5-839902dee548"
      },
      "source": [
        "filter = DeletableBloomFilter(4,28,4,3)\n",
        "\n",
        "filter.add('x')\n",
        "print(filter.bit_array)\n",
        "filter.add('y')\n",
        "print(filter.bit_array)\n",
        "filter.add('z')\n",
        "print(filter.bit_array)\n",
        "filter.add('i')\n",
        "print(filter.bit_array)"
      ],
      "execution_count": null,
      "outputs": [
        {
          "output_type": "stream",
          "text": [
            "bitarray('00000010000000001000000100000000')\n",
            "bitarray('10000010001000001000000100000010')\n",
            "bitarray('10000010001100001000100100000011')\n",
            "bitarray('10010010001100001000110100010011')\n"
          ],
          "name": "stdout"
        }
      ]
    },
    {
      "cell_type": "code",
      "metadata": {
        "colab": {
          "base_uri": "https://localhost:8080/"
        },
        "id": "n0o3McHOOwKa",
        "outputId": "2621cc59-290c-4101-c48d-19c644422d07"
      },
      "source": [
        "alpha = ['a','b','c','d','e','f','g','h','i','j','k','l','m','n','o','p','q','r','s','t','u','v','w','x','y','z']\n",
        "\n",
        "for a in alpha:\n",
        "  print(a,filter.check(a))\n"
      ],
      "execution_count": null,
      "outputs": [
        {
          "output_type": "stream",
          "text": [
            "a False\n",
            "b False\n",
            "c False\n",
            "d False\n",
            "e False\n",
            "f False\n",
            "g False\n",
            "h False\n",
            "i True\n",
            "j True\n",
            "k False\n",
            "l False\n",
            "m False\n",
            "n True\n",
            "o False\n",
            "p False\n",
            "q False\n",
            "r False\n",
            "s False\n",
            "t False\n",
            "u False\n",
            "v False\n",
            "w False\n",
            "x True\n",
            "y True\n",
            "z True\n"
          ],
          "name": "stdout"
        }
      ]
    },
    {
      "cell_type": "code",
      "metadata": {
        "colab": {
          "base_uri": "https://localhost:8080/"
        },
        "id": "0gWXh-xPAfyX",
        "outputId": "36cad06b-c565-483b-a825-880545516c3d"
      },
      "source": [
        "print(filter.check('x'))\n",
        "filter.delete('x')\n",
        "print(filter.bit_array)\n",
        "print(filter.check('x'))\n",
        "filter.add('x')\n",
        "print(filter.bit_array)\n",
        "print(filter.check('x'))"
      ],
      "execution_count": null,
      "outputs": [
        {
          "output_type": "stream",
          "text": [
            "True\n",
            "bitarray('10010000001100001000110100010011')\n",
            "False\n",
            "bitarray('10010010001100001000110100010011')\n",
            "True\n"
          ],
          "name": "stdout"
        }
      ]
    }
  ]
}