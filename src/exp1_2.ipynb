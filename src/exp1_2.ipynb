{
  "nbformat": 4,
  "nbformat_minor": 0,
  "metadata": {
    "colab": {
      "name": "exp2.ipynb",
      "provenance": [],
      "collapsed_sections": []
    },
    "kernelspec": {
      "name": "python3",
      "display_name": "Python 3"
    }
  },
  "cells": [
    {
      "cell_type": "code",
      "metadata": {
        "id": "o5RBvdTROWy5"
      },
      "source": [
        "%pip install mmh3"
      ],
      "execution_count": null,
      "outputs": []
    },
    {
      "cell_type": "code",
      "metadata": {
        "id": "ZhgTzKigOhP4"
      },
      "source": [
        "%pip install bitarray"
      ],
      "execution_count": null,
      "outputs": []
    },
    {
      "cell_type": "code",
      "metadata": {
        "id": "1iMo7ri7Dlmb"
      },
      "source": [
        "#Reading dataset\n",
        "\n",
        "import pandas as pd\n",
        "\n",
        "data = pd.read_csv('data.csv')\n",
        "data = data.dropna()\n",
        "pos_keys = data['url'][0:1000000]\n",
        "neg_keys = data['url'][1000000:]"
      ],
      "execution_count": 3,
      "outputs": []
    },
    {
      "cell_type": "code",
      "metadata": {
        "id": "vTdoAb-PSRjV"
      },
      "source": [
        "#Implementing bloom filter\n",
        "\n",
        "import math\n",
        "import mmh3\n",
        "from bitarray import bitarray\n",
        " \n",
        " \n",
        "class Bloom(object):\n",
        "\n",
        "    def __init__(self, items_count, fp_prob):\n",
        "  \n",
        "        self.fp_prob = fp_prob \n",
        "        self.size = self.get_size(items_count, fp_prob)\n",
        "        self.hash_count = self.get_hash_count(self.size, items_count)\n",
        "        self.bit_array = bitarray(self.size)\n",
        "        self.bit_array.setall(0)\n",
        " \n",
        "    def add(self, item):\n",
        "\n",
        "        digests = []\n",
        "        for i in range(self.hash_count):\n",
        "            digest = mmh3.hash(item, i) % self.size\n",
        "            digests.append(digest)\n",
        "            self.bit_array[digest] = True\n",
        " \n",
        "    def check(self, item):\n",
        "        for i in range(self.hash_count):\n",
        "            digest = mmh3.hash(item, i) % self.size\n",
        "            if self.bit_array[digest] == False:\n",
        "                return False\n",
        "        return True\n",
        " \n",
        "    @classmethod\n",
        "    def get_size(self, n, p):\n",
        "        m = -(n * math.log(p))/(math.log(2)**2)\n",
        "        return int(m)\n",
        " \n",
        "    @classmethod\n",
        "    def get_hash_count(self, m, n):\n",
        "        k = (m/n) * math.log(2)\n",
        "        return int(k)\n"
      ],
      "execution_count": 4,
      "outputs": []
    },
    {
      "cell_type": "code",
      "metadata": {
        "colab": {
          "base_uri": "https://localhost:8080/"
        },
        "id": "sSxZObCPSRgc",
        "outputId": "2fbd958d-d7eb-4c9d-9ca7-80691cba88cc"
      },
      "source": [
        "# Building a bloom filter of pos_keys\n",
        "\n",
        "import time\n",
        "\n",
        "f = Bloom(pos_keys.shape[0],0.1)\n",
        "start = time.time()\n",
        "for i in pos_keys:\n",
        "  f.add(i)\n",
        "print(f'Time to build filter: {time.time() - start}')"
      ],
      "execution_count": 5,
      "outputs": [
        {
          "output_type": "stream",
          "text": [
            "Time to build filter: 1.8691513538360596\n"
          ],
          "name": "stdout"
        }
      ]
    },
    {
      "cell_type": "code",
      "metadata": {
        "colab": {
          "base_uri": "https://localhost:8080/"
        },
        "id": "fxfFIGH0SRdi",
        "outputId": "72a12674-a16c-4cd2-a82c-38d7d56523f8"
      },
      "source": [
        "#Statistics of bloom filter\n",
        "\n",
        "print(\"Size of bit array:{}\".format(f.size))\n",
        "print(\"False positive Probability:{}\".format(f.fp_prob))\n",
        "print(\"Number of hash functions:{}\".format(f.hash_count))"
      ],
      "execution_count": 6,
      "outputs": [
        {
          "output_type": "stream",
          "text": [
            "Size of bit array:4792529\n",
            "False positive Probability:0.1\n",
            "Number of hash functions:3\n"
          ],
          "name": "stdout"
        }
      ]
    },
    {
      "cell_type": "code",
      "metadata": {
        "colab": {
          "base_uri": "https://localhost:8080/"
        },
        "id": "kk1gvJi4SRaR",
        "outputId": "48abf184-73a6-4d44-d116-ef3cc7913093"
      },
      "source": [
        "#Query set is first 5000000 elements of pos_keys and neg_keys\n",
        "#Checking fp and fn rate of bloom filter on the query set\n",
        "\n",
        "counter = 0\n",
        "fn = 0\n",
        "fp = 0\n",
        "\n",
        "for i in pos_keys:\n",
        "  if counter != 500000:\n",
        "    if f.check(i) == False:\n",
        "      fn += 1 \n",
        "    counter += 1\n",
        "  else:\n",
        "    break\n",
        "\n",
        "counter = 0\n",
        "\n",
        "for i in neg_keys:\n",
        "  if counter != 500000:\n",
        "    if f.check(i) == True:\n",
        "      fp += 1 \n",
        "    counter += 1\n",
        "  else:\n",
        "    break\n",
        "\n",
        "print('False positive rate is :{}'.format(fp/10000))\n",
        "print('False negative rate is :{}'.format(fn/10000))"
      ],
      "execution_count": 7,
      "outputs": [
        {
          "output_type": "stream",
          "text": [
            "False positive rate is :5.7812\n",
            "False negative rate is :0.0\n"
          ],
          "name": "stdout"
        }
      ]
    },
    {
      "cell_type": "code",
      "metadata": {
        "id": "vp8GJCXYaFXo"
      },
      "source": [
        "#Implementing deletable bloom filter\n",
        "\n",
        "import math\n",
        "import mmh3\n",
        "from bitarray import bitarray\n",
        "\n",
        "\n",
        "class DeletableBloomFilter():\n",
        "\n",
        "  def __init__(self,m,r,k):\n",
        "\n",
        "    self.m = m\n",
        "    self.r = r\n",
        "    self.k = k\n",
        "\n",
        "    self.bit_array = bitarray(self.m + self.r)\n",
        "    self.bit_array.setall(0)\n",
        "\n",
        "  def add(self, item):\n",
        "\n",
        "    for i in range(self.k):\n",
        "      digest = mmh3.hash(item, i) % (self.m)\n",
        "      if self.bit_array[digest] == True:\n",
        "        r_bit = self.m - 1 + math.ceil((digest+1) / (math.ceil(self.m/self.r)))\n",
        "        self.bit_array[r_bit] = True\n",
        "      else :\n",
        "        self.bit_array[digest] = True\n",
        "\n",
        "  def check(self, item):\n",
        "\n",
        "    for i in range(self.k):\n",
        "      digest = mmh3.hash(item, i) % (self.m)\n",
        "      if self.bit_array[digest] == False:\n",
        "        return False\n",
        "\n",
        "    return True\n",
        "\n",
        "  def delete(self,item, return_index = False):\n",
        "    for i in range(self.k):\n",
        "      digest = mmh3.hash(item, i) % (self.m)\n",
        "      r_bit = self.m - 1 + math.ceil((digest+1) / (math.ceil(self.m/self.r)))\n",
        "\n",
        "      returned_val = None\n",
        "      if self.bit_array[digest] == True and self.bit_array[r_bit] == False:\n",
        "        self.bit_array[digest] = False\n",
        "        returned_val = digest\n",
        "\n",
        "      if (return_index):  #return index of deleted \n",
        "        return returned_val\n"
      ],
      "execution_count": 8,
      "outputs": []
    },
    {
      "cell_type": "code",
      "metadata": {
        "id": "1W2ALHvADlNj",
        "colab": {
          "base_uri": "https://localhost:8080/"
        },
        "outputId": "e9f81dda-8335-45f7-bfa8-3af5e3b47b82"
      },
      "source": [
        "# Building a deletable filter of pos_keys\n",
        "\n",
        "k = f.hash_count\n",
        "m = f.size\n",
        "r = math.ceil(0.7 * m)\n",
        "df = DeletableBloomFilter(m,r,k)\n",
        "\n",
        "start = time.time()\n",
        "for i in pos_keys:\n",
        "  df.add(i)\n",
        "print(f'Time to build deletable filter: {time.time() - start}')"
      ],
      "execution_count": 10,
      "outputs": [
        {
          "output_type": "stream",
          "text": [
            "Time to build deletable filter: 2.3737740516662598\n"
          ],
          "name": "stdout"
        }
      ]
    },
    {
      "cell_type": "code",
      "metadata": {
        "id": "dkax3QVOSUtd",
        "colab": {
          "base_uri": "https://localhost:8080/"
        },
        "outputId": "2ebdb628-1167-468a-e936-a235b595d01c"
      },
      "source": [
        "#Statistics of deletable filter\n",
        "\n",
        "print(\"Size of bit array:{}\".format(len(df.bit_array)))\n",
        "print(\"Number of hash functions:{}\".format(df.k))"
      ],
      "execution_count": 11,
      "outputs": [
        {
          "output_type": "stream",
          "text": [
            "Size of bit array:8147300\n",
            "Number of hash functions:3\n"
          ],
          "name": "stdout"
        }
      ]
    },
    {
      "cell_type": "code",
      "metadata": {
        "id": "krwGYWYhSUqV",
        "colab": {
          "base_uri": "https://localhost:8080/"
        },
        "outputId": "b104c0a8-6b23-4853-ff68-0260994e9766"
      },
      "source": [
        "#Query set is first 5000000 elements of pos_keys and neg_keys\n",
        "#Checking fp and fn rate of deletable filter on the query set\n",
        "\n",
        "counter = 0\n",
        "fn = 0\n",
        "fp = 0\n",
        "\n",
        "for i in pos_keys:\n",
        "  if counter != 500000:\n",
        "    if df.check(i) == False:\n",
        "      fn += 1 \n",
        "    counter += 1\n",
        "  else:\n",
        "    break\n",
        "\n",
        "counter = 0\n",
        "\n",
        "for i in neg_keys:\n",
        "  if counter != 500000:\n",
        "    if df.check(i) == True:\n",
        "      fp += 1 \n",
        "    counter += 1\n",
        "  else:\n",
        "    break\n",
        "\n",
        "print('False positive rate is :{}'.format(fp/10000))\n",
        "print('False negative rate is :{}'.format(fn/10000))"
      ],
      "execution_count": 12,
      "outputs": [
        {
          "output_type": "stream",
          "text": [
            "False positive rate is :5.7812\n",
            "False negative rate is :0.0\n"
          ],
          "name": "stdout"
        }
      ]
    },
    {
      "cell_type": "markdown",
      "metadata": {
        "id": "tvce4LB0g4We"
      },
      "source": [
        "#Experiment 1:\n",
        "\n",
        "Checking the performance of Bloom filter vs Deletable Filter after series of n = 20000 deletions on the query set\n"
      ]
    },
    {
      "cell_type": "code",
      "metadata": {
        "colab": {
          "base_uri": "https://localhost:8080/"
        },
        "id": "qLoNzhihg7q6",
        "outputId": "1b6e00ee-c348-4196-f73c-643aab90450c"
      },
      "source": [
        "# Bloom filter performance\n",
        "\n",
        "bfp = fp\n",
        "bfp_history = [bfp/10000]\n",
        "deletions = [0]\n",
        "\n",
        "for i in range(20):\n",
        "  bfp += 20000\n",
        "  bfp_history.append(bfp/10000)\n",
        "  deletions.append(20000 * (i+1))\n",
        "\n",
        "print(bfp_history)"
      ],
      "execution_count": 13,
      "outputs": [
        {
          "output_type": "stream",
          "text": [
            "[5.7812, 7.7812, 9.7812, 11.7812, 13.7812, 15.7812, 17.7812, 19.7812, 21.7812, 23.7812, 25.7812, 27.7812, 29.7812, 31.7812, 33.7812, 35.7812, 37.7812, 39.7812, 41.7812, 43.7812, 45.7812]\n"
          ],
          "name": "stdout"
        }
      ]
    },
    {
      "cell_type": "code",
      "metadata": {
        "colab": {
          "base_uri": "https://localhost:8080/"
        },
        "id": "h48ded9T7vX5",
        "outputId": "4338d995-429c-496f-f310-c866e18786f8"
      },
      "source": [
        "# Deletable filter performance\n",
        "\n",
        "dfp_history = [fp/10000]\n",
        "deleted_samples = pos_keys[0:0]\n",
        "\n",
        "for i in range(1,21):\n",
        "  sample = pos_keys[20000*(i-1):20000*i]\n",
        "  deleted_samples = deleted_samples.append(sample)\n",
        "\n",
        "  for i in sample:\n",
        "    df.delete(i)\n",
        "\n",
        "  dfp = 0 \n",
        "\n",
        "  for i in neg_keys[0:500000]:\n",
        "    if df.check(i) == True:\n",
        "      dfp += 1 \n",
        "\n",
        "  for i in deleted_samples:\n",
        "    if df.check(i) == True:\n",
        "      dfp += 1 \n",
        "\n",
        "  dfp_history.append(dfp/10000)\n",
        "\n",
        "print(dfp_history)"
      ],
      "execution_count": 14,
      "outputs": [
        {
          "output_type": "stream",
          "text": [
            "[5.7812, 5.9164, 6.064, 6.2679, 6.4776, 6.6547, 6.8243, 7.0011, 7.1886, 7.3844, 7.6393, 7.889, 8.0866, 8.3193, 8.5192, 8.73, 8.9696, 9.186, 9.4193, 9.6562, 9.8776]\n"
          ],
          "name": "stdout"
        }
      ]
    },
    {
      "cell_type": "code",
      "metadata": {
        "colab": {
          "base_uri": "https://localhost:8080/",
          "height": 279
        },
        "id": "Fg3rZA4b6ub7",
        "outputId": "a09ac646-011b-45fa-99ee-3e83325b7790"
      },
      "source": [
        "#Visualising performance of both filters after n deletions\n",
        "\n",
        "import matplotlib.pyplot as plt\n",
        "%matplotlib inline\n",
        "\n",
        "plt.plot(deletions,bfp_history,'-',linewidth=3,label='bloomfilter')\n",
        "plt.plot(deletions,dfp_history,'-',linewidth=3,label='deletablefilter')\n",
        "plt.xlabel('No of deletions')\n",
        "plt.ylabel('Fp rate (%)')\n",
        "plt.grid(True)\n",
        "plt.legend()\n",
        "plt.savefig('exp1.png')"
      ],
      "execution_count": 15,
      "outputs": [
        {
          "output_type": "display_data",
          "data": {
            "image/png": "[encoded data removed]",
            "text/plain": [
              "<Figure size 432x288 with 1 Axes>"
            ]
          },
          "metadata": {
            "tags": [],
            "needs_background": "light"
          }
        }
      ]
    },
    {
      "cell_type": "markdown",
      "metadata": {
        "id": "8aezINBMHNOL"
      },
      "source": [
        "#Experiment 2:\n",
        "\n",
        "Checking the performance of Deletable Filter after series of n = 20000 insertions and deletions on the query set"
      ]
    },
    {
      "cell_type": "code",
      "metadata": {
        "colab": {
          "base_uri": "https://localhost:8080/"
        },
        "id": "_XRRYqfSgf8K",
        "outputId": "0c78ae4e-1288-42f6-8666-daa730b8d265"
      },
      "source": [
        "#Building deletable filer of 500000 elements of pos_keys\n",
        "\n",
        "df2 = DeletableBloomFilter(m//2,r//2,k)\n",
        "\n",
        "start = time.time()\n",
        "for i in pos_keys[0:500000]:\n",
        "  df2.add(i)\n",
        "print(f'Time to build deletable filter: {time.time() - start}')"
      ],
      "execution_count": 16,
      "outputs": [
        {
          "output_type": "stream",
          "text": [
            "Time to build deletable filter: 1.115344524383545\n"
          ],
          "name": "stdout"
        }
      ]
    },
    {
      "cell_type": "code",
      "metadata": {
        "colab": {
          "base_uri": "https://localhost:8080/"
        },
        "id": "n150QuaQplkD",
        "outputId": "c301eaa9-d69a-491a-a075-d840e42860b6"
      },
      "source": [
        "#Checking fp rate on query set of 500000 neg_keys\n",
        "\n",
        "dfp2 = 0\n",
        "\n",
        "for i in neg_keys[0:500000]:\n",
        "  if df2.check(i) == True:\n",
        "    dfp2 += 1\n",
        "\n",
        "print('False positive rate is :{}'.format(dfp2/5000))"
      ],
      "execution_count": 17,
      "outputs": [
        {
          "output_type": "stream",
          "text": [
            "False positive rate is :10.3766\n"
          ],
          "name": "stdout"
        }
      ]
    },
    {
      "cell_type": "code",
      "metadata": {
        "colab": {
          "base_uri": "https://localhost:8080/"
        },
        "id": "b9GVKXORjPxm",
        "outputId": "3eede313-bda1-4ba5-a567-8b1030ebbbc1"
      },
      "source": [
        "#Checking fp rate on query set after 20000 insertions and deletions\n",
        "\n",
        "dfp2_history = [dfp2/5000]\n",
        "deleted_list = pos_keys[0:0]\n",
        "\n",
        "for i in range(1,21):\n",
        "  insert_samples = pos_keys[500000+(20000*(i-1)):500000+(20000*i)]\n",
        "  sample = pos_keys[20000*(i-1):20000*i]\n",
        "  deleted_list = deleted_list.append(sample)\n",
        "\n",
        "  for i in sample:\n",
        "    df2.delete(i)\n",
        "  \n",
        "  for i in insert_samples:\n",
        "    df2.add(i)\n",
        "\n",
        "  dfp2 = 0 \n",
        "\n",
        "  for i in neg_keys[0:500000]:\n",
        "    if df2.check(i) == True:\n",
        "      dfp2 += 1 \n",
        "\n",
        "  for i in deleted_list:\n",
        "    if df2.check(i) == True:\n",
        "      dfp2 += 1 \n",
        "\n",
        "\n",
        "  dfp2_history.append(dfp2/5000)\n",
        "\n",
        "print(dfp2_history)"
      ],
      "execution_count": 18,
      "outputs": [
        {
          "output_type": "stream",
          "text": [
            "[10.3766, 11.141, 12.1392, 13.2342, 14.404, 15.6854, 17.0682, 18.539, 20.2412, 22.078, 24.0912, 26.2264, 28.3498, 30.6646, 33.0432, 35.2346, 37.7652, 40.9368, 43.7934, 46.6864, 49.787]\n"
          ],
          "name": "stdout"
        }
      ]
    },
    {
      "cell_type": "code",
      "metadata": {
        "colab": {
          "base_uri": "https://localhost:8080/",
          "height": 279
        },
        "id": "jHRG_shFt1FM",
        "outputId": "5ccd52c6-3d19-4da0-d089-3a9367aa54c9"
      },
      "source": [
        "#Visualising performance of dlbf after n insertions and deletions\n",
        "\n",
        "plt.plot(deletions,dfp2_history,'-',linewidth=3,label='dlbf')\n",
        "plt.xlabel('No of deletions and insertions')\n",
        "plt.ylabel('Fp rate (%)')\n",
        "plt.grid(True)\n",
        "plt.legend()\n",
        "plt.savefig('exp2.png')"
      ],
      "execution_count": 19,
      "outputs": [
        {
          "output_type": "display_data",
          "data": {
            "image/png": "[encoded data removed]",
            "text/plain": [
              "<Figure size 432x288 with 1 Axes>"
            ]
          },
          "metadata": {
            "tags": [],
            "needs_background": "light"
          }
        }
      ]
    }
  ]
}